{
 "cells": [
  {
   "cell_type": "code",
   "execution_count": null,
   "metadata": {},
   "outputs": [],
   "source": [
    "from twarc import Twarc2\n",
    "import datetime\n",
    "import json\n",
    "\n",
    "# Replace your bearer token below\n",
    "client = Twarc2(bearer_token=\"AAAAAAAAAAAAAAAAAAAAAJdRaQEAAAAA1pRlwVThWMNq2ucOTp4BheDL%2Blc%3D4FPscsKHVY3DZc6LK3Ai156SnjE8qfJ50q9Q2JIGaG07mNZuJN\")\n",
    "\n",
    "\n",
    "def main():\n",
    "    # Specify the start time in UTC for the time period you want Tweets from\n",
    "    start_time = datetime.datetime(2021, 6, 27, 0, 0, 0, 0, datetime.timezone.utc)\n",
    "\n",
    "    # Specify the end time in UTC for the time period you want Tweets from\n",
    "    end_time = datetime.datetime(2021, 6, 28, 0, 0, 0, 0, datetime.timezone.utc)\n",
    "\n",
    " \n",
    "    query = \"Erha\"\n",
    "\n",
    "\n",
    "    count_results = client.counts_recent(query=query, start_time=start_time, end_time=end_time)\n",
    "\n",
    "\n",
    "\n",
    "for page in count_results:\n",
    "    print(json.dumps(page['data']))\n",
    "    break\n",
    "\n",
    "if __name__ == \"__main__\":\n",
    "    main()"
   ]
  }
 ],
 "metadata": {
  "kernelspec": {
   "display_name": "Python 3.10.4 64-bit",
   "language": "python",
   "name": "python3"
  },
  "language_info": {
   "name": "python",
   "version": "3.10.4"
  },
  "orig_nbformat": 4,
  "vscode": {
   "interpreter": {
    "hash": "f9e417a9a11888565159b4140f4cf6f6b197a26a30e68754afc148a2c7d22d47"
   }
  }
 },
 "nbformat": 4,
 "nbformat_minor": 2
}
