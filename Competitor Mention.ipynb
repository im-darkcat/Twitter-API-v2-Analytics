{
 "cells": [
  {
   "cell_type": "code",
   "execution_count": 1,
   "metadata": {},
   "outputs": [
    {
     "name": "stderr",
     "output_type": "stream",
     "text": [
      "c:\\Users\\muhammad.abror\\AppData\\Local\\Programs\\Python\\Python310\\lib\\site-packages\\tqdm\\auto.py:22: TqdmWarning: IProgress not found. Please update jupyter and ipywidgets. See https://ipywidgets.readthedocs.io/en/stable/user_install.html\n",
      "  from .autonotebook import tqdm as notebook_tqdm\n",
      "Unexpected HTTP response: <Response [401]>\n"
     ]
    },
    {
     "ename": "HTTPError",
     "evalue": "401 Client Error: Unauthorized for url: https://api.twitter.com/2/users/by?tweet.fields=attachments%2Cauthor_id%2Ccontext_annotations%2Cconversation_id%2Ccreated_at%2Centities%2Cgeo%2Cid%2Cin_reply_to_user_id%2Clang%2Cpublic_metrics%2Ctext%2Cpossibly_sensitive%2Creferenced_tweets%2Creply_settings%2Csource%2Cwithheld&user.fields=created_at%2Cdescription%2Centities%2Cid%2Clocation%2Cname%2Cpinned_tweet_id%2Cprofile_image_url%2Cprotected%2Cpublic_metrics%2Curl%2Cusername%2Cverified%2Cwithheld&usernames=Somethinc4u",
     "output_type": "error",
     "traceback": [
      "\u001b[1;31m---------------------------------------------------------------------------\u001b[0m",
      "\u001b[1;31mHTTPError\u001b[0m                                 Traceback (most recent call last)",
      "\u001b[1;32mUntitled-1.ipynb Cell 1'\u001b[0m in \u001b[0;36m<cell line: 21>\u001b[1;34m()\u001b[0m\n\u001b[0;32m     <a href='vscode-notebook-cell:Untitled-1.ipynb?jupyter-notebook#ch0000000untitled?line=17'>18</a>\u001b[0m             \u001b[39mprint\u001b[39m(json\u001b[39m.\u001b[39mdumps(tweet))\n\u001b[0;32m     <a href='vscode-notebook-cell:Untitled-1.ipynb?jupyter-notebook#ch0000000untitled?line=20'>21</a>\u001b[0m \u001b[39mif\u001b[39;00m \u001b[39m__name__\u001b[39m \u001b[39m==\u001b[39m \u001b[39m\"\u001b[39m\u001b[39m__main__\u001b[39m\u001b[39m\"\u001b[39m:\n\u001b[1;32m---> <a href='vscode-notebook-cell:Untitled-1.ipynb?jupyter-notebook#ch0000000untitled?line=21'>22</a>\u001b[0m     main()\n",
      "\u001b[1;32mUntitled-1.ipynb Cell 1'\u001b[0m in \u001b[0;36mmain\u001b[1;34m()\u001b[0m\n\u001b[0;32m      <a href='vscode-notebook-cell:Untitled-1.ipynb?jupyter-notebook#ch0000000untitled?line=7'>8</a>\u001b[0m \u001b[39mdef\u001b[39;00m \u001b[39mmain\u001b[39m():\n\u001b[1;32m---> <a href='vscode-notebook-cell:Untitled-1.ipynb?jupyter-notebook#ch0000000untitled?line=9'>10</a>\u001b[0m     user_mentions \u001b[39m=\u001b[39m client\u001b[39m.\u001b[39;49mmentions(user\u001b[39m=\u001b[39;49m\u001b[39m\"\u001b[39;49m\u001b[39mSomethinc4u\u001b[39;49m\u001b[39m\"\u001b[39;49m)\n\u001b[0;32m     <a href='vscode-notebook-cell:Untitled-1.ipynb?jupyter-notebook#ch0000000untitled?line=12'>13</a>\u001b[0m     \u001b[39mfor\u001b[39;00m page \u001b[39min\u001b[39;00m user_mentions:\n\u001b[0;32m     <a href='vscode-notebook-cell:Untitled-1.ipynb?jupyter-notebook#ch0000000untitled?line=14'>15</a>\u001b[0m         result \u001b[39m=\u001b[39m expansions\u001b[39m.\u001b[39mflatten(page)\n",
      "File \u001b[1;32mc:\\Users\\muhammad.abror\\AppData\\Local\\Programs\\Python\\Python310\\lib\\site-packages\\twarc\\client2.py:1350\u001b[0m, in \u001b[0;36mTwarc2.mentions\u001b[1;34m(self, user, since_id, until_id, start_time, end_time, exclude_retweets, exclude_replies, max_results, expansions, tweet_fields, user_fields, media_fields, poll_fields, place_fields, pagination_token)\u001b[0m\n\u001b[0;32m   1313\u001b[0m \u001b[39mdef\u001b[39;00m \u001b[39mmentions\u001b[39m(\n\u001b[0;32m   1314\u001b[0m     \u001b[39mself\u001b[39m,\n\u001b[0;32m   1315\u001b[0m     user,\n\u001b[1;32m   (...)\u001b[0m\n\u001b[0;32m   1329\u001b[0m     pagination_token\u001b[39m=\u001b[39m\u001b[39mNone\u001b[39;00m,\n\u001b[0;32m   1330\u001b[0m ):\n\u001b[0;32m   1331\u001b[0m     \u001b[39m\"\"\"\u001b[39;00m\n\u001b[0;32m   1332\u001b[0m \u001b[39m    Retrieve up to the 800 most recent tweets mentioning the given user.\u001b[39;00m\n\u001b[0;32m   1333\u001b[0m \n\u001b[1;32m   (...)\u001b[0m\n\u001b[0;32m   1348\u001b[0m \u001b[39m        generator[dict]: A generator, dict for each page of results.\u001b[39;00m\n\u001b[0;32m   1349\u001b[0m \u001b[39m    \"\"\"\u001b[39;00m\n\u001b[1;32m-> 1350\u001b[0m     user_id \u001b[39m=\u001b[39m \u001b[39mself\u001b[39;49m\u001b[39m.\u001b[39;49m_ensure_user_id(user)\n\u001b[0;32m   1351\u001b[0m     \u001b[39mreturn\u001b[39;00m \u001b[39mself\u001b[39m\u001b[39m.\u001b[39m_timeline(\n\u001b[0;32m   1352\u001b[0m         user_id\u001b[39m=\u001b[39muser_id,\n\u001b[0;32m   1353\u001b[0m         timeline_type\u001b[39m=\u001b[39m\u001b[39m\"\u001b[39m\u001b[39mmentions\u001b[39m\u001b[39m\"\u001b[39m,\n\u001b[1;32m   (...)\u001b[0m\n\u001b[0;32m   1367\u001b[0m         pagination_token\u001b[39m=\u001b[39mpagination_token,\n\u001b[0;32m   1368\u001b[0m     )\n",
      "File \u001b[1;32mc:\\Users\\muhammad.abror\\AppData\\Local\\Programs\\Python\\Python310\\lib\\site-packages\\twarc\\client2.py:1871\u001b[0m, in \u001b[0;36mTwarc2._ensure_user_id\u001b[1;34m(self, user)\u001b[0m\n\u001b[0;32m   1869\u001b[0m     \u001b[39mreturn\u001b[39;00m user\n\u001b[0;32m   1870\u001b[0m \u001b[39melse\u001b[39;00m:\n\u001b[1;32m-> 1871\u001b[0m     results \u001b[39m=\u001b[39m \u001b[39mnext\u001b[39;49m(\u001b[39mself\u001b[39;49m\u001b[39m.\u001b[39;49muser_lookup([user], usernames\u001b[39m=\u001b[39;49m\u001b[39mTrue\u001b[39;49;00m))\n\u001b[0;32m   1872\u001b[0m     \u001b[39mif\u001b[39;00m \u001b[39m\"\u001b[39m\u001b[39mdata\u001b[39m\u001b[39m\"\u001b[39m \u001b[39min\u001b[39;00m results \u001b[39mand\u001b[39;00m \u001b[39mlen\u001b[39m(results[\u001b[39m\"\u001b[39m\u001b[39mdata\u001b[39m\u001b[39m\"\u001b[39m]) \u001b[39m>\u001b[39m \u001b[39m0\u001b[39m:\n\u001b[0;32m   1873\u001b[0m         \u001b[39mreturn\u001b[39;00m results[\u001b[39m\"\u001b[39m\u001b[39mdata\u001b[39m\u001b[39m\"\u001b[39m][\u001b[39m0\u001b[39m][\u001b[39m\"\u001b[39m\u001b[39mid\u001b[39m\u001b[39m\"\u001b[39m]\n",
      "File \u001b[1;32mc:\\Users\\muhammad.abror\\AppData\\Local\\Programs\\Python\\Python310\\lib\\site-packages\\twarc\\client2.py:994\u001b[0m, in \u001b[0;36mTwarc2.user_lookup\u001b[1;34m(self, users, usernames, expansions, tweet_fields, user_fields)\u001b[0m\n\u001b[0;32m    991\u001b[0m         batch \u001b[39m=\u001b[39m []\n\u001b[0;32m    993\u001b[0m \u001b[39mif\u001b[39;00m batch:\n\u001b[1;32m--> 994\u001b[0m     \u001b[39myield\u001b[39;00m (lookup_batch(batch))\n",
      "File \u001b[1;32mc:\\Users\\muhammad.abror\\AppData\\Local\\Programs\\Python\\Python310\\lib\\site-packages\\twarc\\client2.py:978\u001b[0m, in \u001b[0;36mTwarc2.user_lookup.<locals>.lookup_batch\u001b[1;34m(users)\u001b[0m\n\u001b[0;32m    975\u001b[0m \u001b[39melse\u001b[39;00m:\n\u001b[0;32m    976\u001b[0m     params[\u001b[39m\"\u001b[39m\u001b[39mids\u001b[39m\u001b[39m\"\u001b[39m] \u001b[39m=\u001b[39m \u001b[39m\"\u001b[39m\u001b[39m,\u001b[39m\u001b[39m\"\u001b[39m\u001b[39m.\u001b[39mjoin(users)\n\u001b[1;32m--> 978\u001b[0m resp \u001b[39m=\u001b[39m \u001b[39mself\u001b[39;49m\u001b[39m.\u001b[39;49mget(url, params\u001b[39m=\u001b[39;49mparams)\n\u001b[0;32m    979\u001b[0m data \u001b[39m=\u001b[39m resp\u001b[39m.\u001b[39mjson()\n\u001b[0;32m    981\u001b[0m \u001b[39mif\u001b[39;00m \u001b[39mself\u001b[39m\u001b[39m.\u001b[39mmetadata:\n",
      "File \u001b[1;32mc:\\Users\\muhammad.abror\\AppData\\Local\\Programs\\Python\\Python310\\lib\\site-packages\\twarc\\decorators2.py:138\u001b[0m, in \u001b[0;36mcatch_request_exceptions.<locals>.new_f\u001b[1;34m(self, *args, **kwargs)\u001b[0m\n\u001b[0;32m    134\u001b[0m \u001b[39mexcept\u001b[39;00m (requests\u001b[39m.\u001b[39mexceptions\u001b[39m.\u001b[39mRequestException, \u001b[39mConnectionError\u001b[39;00m) \u001b[39mas\u001b[39;00m e:\n\u001b[0;32m    135\u001b[0m \n\u001b[0;32m    136\u001b[0m     \u001b[39m# don't catch any HTTP errors since those are handled separately\u001b[39;00m\n\u001b[0;32m    137\u001b[0m     \u001b[39mif\u001b[39;00m \u001b[39misinstance\u001b[39m(e, requests\u001b[39m.\u001b[39mexceptions\u001b[39m.\u001b[39mHTTPError):\n\u001b[1;32m--> 138\u001b[0m         \u001b[39mraise\u001b[39;00m e\n\u001b[0;32m    140\u001b[0m     errors \u001b[39m+\u001b[39m\u001b[39m=\u001b[39m \u001b[39m1\u001b[39m\n\u001b[0;32m    141\u001b[0m     log\u001b[39m.\u001b[39mwarning(\u001b[39m\"\u001b[39m\u001b[39mcaught requests exception: \u001b[39m\u001b[39m%s\u001b[39;00m\u001b[39m\"\u001b[39m, e)\n",
      "File \u001b[1;32mc:\\Users\\muhammad.abror\\AppData\\Local\\Programs\\Python\\Python310\\lib\\site-packages\\twarc\\decorators2.py:131\u001b[0m, in \u001b[0;36mcatch_request_exceptions.<locals>.new_f\u001b[1;34m(self, *args, **kwargs)\u001b[0m\n\u001b[0;32m    129\u001b[0m \u001b[39mwhile\u001b[39;00m errors \u001b[39m<\u001b[39m tries:\n\u001b[0;32m    130\u001b[0m     \u001b[39mtry\u001b[39;00m:\n\u001b[1;32m--> 131\u001b[0m         resp \u001b[39m=\u001b[39m f(\u001b[39mself\u001b[39m, \u001b[39m*\u001b[39margs, \u001b[39m*\u001b[39m\u001b[39m*\u001b[39mkwargs)\n\u001b[0;32m    132\u001b[0m         errors \u001b[39m=\u001b[39m \u001b[39m0\u001b[39m\n\u001b[0;32m    133\u001b[0m         \u001b[39mreturn\u001b[39;00m resp\n",
      "File \u001b[1;32mc:\\Users\\muhammad.abror\\AppData\\Local\\Programs\\Python\\Python310\\lib\\site-packages\\twarc\\decorators2.py:101\u001b[0m, in \u001b[0;36mrate_limit.<locals>.new_f\u001b[1;34m(*args, **kwargs)\u001b[0m\n\u001b[0;32m     99\u001b[0m \u001b[39melse\u001b[39;00m:\n\u001b[0;32m    100\u001b[0m     log\u001b[39m.\u001b[39merror(\u001b[39m\"\u001b[39m\u001b[39mUnexpected HTTP response: \u001b[39m\u001b[39m%s\u001b[39;00m\u001b[39m\"\u001b[39m, resp)\n\u001b[1;32m--> 101\u001b[0m     resp\u001b[39m.\u001b[39;49mraise_for_status()\n",
      "File \u001b[1;32mc:\\Users\\muhammad.abror\\AppData\\Local\\Programs\\Python\\Python310\\lib\\site-packages\\requests\\models.py:1022\u001b[0m, in \u001b[0;36mResponse.raise_for_status\u001b[1;34m(self)\u001b[0m\n\u001b[0;32m   1017\u001b[0m     http_error_msg \u001b[39m=\u001b[39m (\n\u001b[0;32m   1018\u001b[0m         \u001b[39mf\u001b[39m\u001b[39m\"\u001b[39m\u001b[39m{\u001b[39;00m\u001b[39mself\u001b[39m\u001b[39m.\u001b[39mstatus_code\u001b[39m}\u001b[39;00m\u001b[39m Server Error: \u001b[39m\u001b[39m{\u001b[39;00mreason\u001b[39m}\u001b[39;00m\u001b[39m for url: \u001b[39m\u001b[39m{\u001b[39;00m\u001b[39mself\u001b[39m\u001b[39m.\u001b[39murl\u001b[39m}\u001b[39;00m\u001b[39m\"\u001b[39m\n\u001b[0;32m   1019\u001b[0m     )\n\u001b[0;32m   1021\u001b[0m \u001b[39mif\u001b[39;00m http_error_msg:\n\u001b[1;32m-> 1022\u001b[0m     \u001b[39mraise\u001b[39;00m HTTPError(http_error_msg, response\u001b[39m=\u001b[39m\u001b[39mself\u001b[39m)\n",
      "\u001b[1;31mHTTPError\u001b[0m: 401 Client Error: Unauthorized for url: https://api.twitter.com/2/users/by?tweet.fields=attachments%2Cauthor_id%2Ccontext_annotations%2Cconversation_id%2Ccreated_at%2Centities%2Cgeo%2Cid%2Cin_reply_to_user_id%2Clang%2Cpublic_metrics%2Ctext%2Cpossibly_sensitive%2Creferenced_tweets%2Creply_settings%2Csource%2Cwithheld&user.fields=created_at%2Cdescription%2Centities%2Cid%2Clocation%2Cname%2Cpinned_tweet_id%2Cprofile_image_url%2Cprotected%2Cpublic_metrics%2Curl%2Cusername%2Cverified%2Cwithheld&usernames=Somethinc4u"
     ]
    }
   ],
   "source": [
    "from twarc import Twarc2, expansions\n",
    "import json\n",
    "\n",
    "\n",
    "client = Twarc2(bearer_token=\"AAAAAAAAAAAAAAAAAAAAAJdRaQEAAAAAgjwjyMyPf7qrWwVSq7%2FXEzLiwUg%3DG9KFhrioNz8qbdyOxqS5DiaEq0w7e3YPNFvl2rH2xByY3ZmrDa\")\n",
    "\n",
    "\n",
    "def main():\n",
    "  \n",
    "    user_mentions = client.mentions(user=\"Somethinc4u\")\n",
    "\n",
    "  \n",
    "    for page in user_mentions:\n",
    "     \n",
    "        result = expansions.flatten(page)\n",
    "        for tweet in result:\n",
    "         \n",
    "            print(json.dumps(tweet))\n",
    "\n",
    "\n",
    "if __name__ == \"__main__\":\n",
    "    main()\n"
   ]
  }
 ],
 "metadata": {
  "kernelspec": {
   "display_name": "Python 3.10.4 64-bit",
   "language": "python",
   "name": "python3"
  },
  "language_info": {
   "codemirror_mode": {
    "name": "ipython",
    "version": 3
   },
   "file_extension": ".py",
   "mimetype": "text/x-python",
   "name": "python",
   "nbconvert_exporter": "python",
   "pygments_lexer": "ipython3",
   "version": "3.10.4"
  },
  "orig_nbformat": 4,
  "vscode": {
   "interpreter": {
    "hash": "f9e417a9a11888565159b4140f4cf6f6b197a26a30e68754afc148a2c7d22d47"
   }
  }
 },
 "nbformat": 4,
 "nbformat_minor": 2
}
